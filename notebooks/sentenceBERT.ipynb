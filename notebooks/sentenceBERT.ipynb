{
  "nbformat": 4,
  "nbformat_minor": 0,
  "metadata": {
    "colab": {
      "provenance": [],
      "gpuType": "T4",
      "authorship_tag": "ABX9TyOK3Vs+U3RvvpPxzVkQPFRu",
      "include_colab_link": true
    },
    "kernelspec": {
      "name": "python3",
      "display_name": "Python 3"
    },
    "language_info": {
      "name": "python"
    },
    "accelerator": "GPU"
  },
  "cells": [
    {
      "cell_type": "markdown",
      "metadata": {
        "id": "view-in-github",
        "colab_type": "text"
      },
      "source": [
        "<a href=\"https://colab.research.google.com/github/multitude00999/MSAI_337_project/blob/main/sentenceBERT.ipynb\" target=\"_parent\"><img src=\"https://colab.research.google.com/assets/colab-badge.svg\" alt=\"Open In Colab\"/></a>"
      ]
    },
    {
      "cell_type": "code",
      "execution_count": null,
      "metadata": {
        "id": "um1_oMPI6OUZ"
      },
      "outputs": [],
      "source": [
        "## setup\n",
        "!pip install -U sentence-transformers"
      ]
    },
    {
      "cell_type": "code",
      "source": [
        "# imports\n",
        "from sentence_transformers import SentenceTransformer\n",
        "from nltk.tokenize import sent_tokenize\n",
        "from sklearn.metrics.pairwise import cosine_similarity\n",
        "import nltk\n",
        "import numpy as np\n",
        "nltk.download('punkt')"
      ],
      "metadata": {
        "colab": {
          "base_uri": "https://localhost:8080/"
        },
        "id": "T7MybDxu-GA0",
        "outputId": "d146d583-149a-4dc2-97d1-1c1aff6c1f95"
      },
      "execution_count": 123,
      "outputs": [
        {
          "output_type": "stream",
          "name": "stderr",
          "text": [
            "[nltk_data] Downloading package punkt to /root/nltk_data...\n",
            "[nltk_data]   Package punkt is already up-to-date!\n"
          ]
        },
        {
          "output_type": "execute_result",
          "data": {
            "text/plain": [
              "True"
            ]
          },
          "metadata": {},
          "execution_count": 123
        }
      ]
    },
    {
      "cell_type": "code",
      "source": [
        "def loadModel(model_path):\n",
        "  return SentenceTransformer(model_path)\n",
        "\n",
        "def getSentences(text):\n",
        "  return sent_tokenize(text)\n",
        "\n",
        "def getEmbeddings(model, sentences):\n",
        "  embeddings = model.encode(sentences)\n",
        "  return embeddings\n",
        "\n",
        "def getSimilarityMatrix(generated_embs, reference_embs):\n",
        "  return cosine_similarity(generated_embs, reference_embs)\n",
        "\n",
        "def getScore(sim_mat):\n",
        "  \n",
        "  # get maximum along reference text axis\n",
        "  scores = np.max(sim_mat, axis = 0)\n",
        "\n",
        "  # calculate mean\n",
        "  final_score = np.mean(scores)\n",
        "\n",
        "  return final_score\n",
        "\n",
        "def calcSBERTScore(model, generated_text, reference_text, debug = False):\n",
        "\n",
        "  # get sentences\n",
        "  generated_sents = getSentences(generated_text)\n",
        "  reference_sents = getSentences(reference_text)\n",
        "\n",
        "  # get embeddings\n",
        "  generated_embs = getEmbeddings(model, generated_sents)\n",
        "  reference_embs = getEmbeddings(model, reference_sents)\n",
        "\n",
        "  # calculate pairwise cosine similarity\n",
        "  sim_mat = cosine_similarity(generated_embs, reference_embs)\n",
        "\n",
        "  if debug:\n",
        "    print(\"sim mat shape\", sim_mat.shape)\n",
        "    print(sim_mat)\n",
        "  # get score\n",
        "  score = getScore(sim_mat)\n",
        "  \n",
        "  return score"
      ],
      "metadata": {
        "id": "TQFZeOLu-k9k"
      },
      "execution_count": 124,
      "outputs": []
    },
    {
      "cell_type": "code",
      "source": [
        "# load model\n",
        "\n",
        "# # sentence bert\n",
        "# model_path = 'efederici/sentence-bert-base'\n",
        "# model = SentenceTransformer('efederici/sentence-bert-base')\n",
        "\n",
        "# sentence bert for paraphrasing\n",
        "model_path = 'paraphrase-MiniLM-L6-v2'\n",
        "model = loadModel(model_path)"
      ],
      "metadata": {
        "id": "ct1A85Aw6fe0"
      },
      "execution_count": 128,
      "outputs": []
    },
    {
      "cell_type": "code",
      "source": [
        "# text sentences\n",
        "generated_text  =\"the weather is cold today. i feel good in cold weather.\"\n",
        "# generated_text  =\"It's so hot today. i hate cold  weather.\"\n",
        "reference_text = \"It's freezing today. i like chilly weather.\""
      ],
      "metadata": {
        "id": "1iyjbqaH6po7"
      },
      "execution_count": 129,
      "outputs": []
    },
    {
      "cell_type": "code",
      "source": [
        "%%time\n",
        "sBERTScore = calcSBERTScore(model, generated_text, reference_text, debug=False)\n",
        "print(\"sBERT score:\", sBERTScore)"
      ],
      "metadata": {
        "colab": {
          "base_uri": "https://localhost:8080/"
        },
        "id": "BwzWkxF1DEhe",
        "outputId": "ef2a42de-cdd0-4fdd-efea-b658e72cfb44"
      },
      "execution_count": 130,
      "outputs": [
        {
          "output_type": "stream",
          "name": "stdout",
          "text": [
            "sBERT score: 0.7317186\n",
            "CPU times: user 45.8 ms, sys: 50 µs, total: 45.8 ms\n",
            "Wall time: 46.1 ms\n"
          ]
        }
      ]
    },
    {
      "cell_type": "code",
      "source": [],
      "metadata": {
        "id": "Wy9F-kHhFfKp"
      },
      "execution_count": 127,
      "outputs": []
    }
  ]
}